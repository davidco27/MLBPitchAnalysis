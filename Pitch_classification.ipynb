{
 "cells": [
  {
   "attachments": {},
   "cell_type": "markdown",
   "metadata": {},
   "source": [
    "# PREDICCIÓN DE PITCHES"
   ]
  },
  {
   "attachments": {},
   "cell_type": "markdown",
   "metadata": {},
   "source": [
    "## NOTA IMPORTANTE. No me ha dejado subir el zip con los csv con los datos porque superan el limite de 20 MB. Si quieres ejecutar este cuaderno dimelo y te subo los datos a un Drive."
   ]
  },
  {
   "attachments": {},
   "cell_type": "markdown",
   "metadata": {},
   "source": [
    "#### Cargamos los datos y unimos los 3 dataframes"
   ]
  },
  {
   "cell_type": "code",
   "execution_count": 10,
   "metadata": {},
   "outputs": [
    {
     "data": {
      "text/html": [
       "<div>\n",
       "<style scoped>\n",
       "    .dataframe tbody tr th:only-of-type {\n",
       "        vertical-align: middle;\n",
       "    }\n",
       "\n",
       "    .dataframe tbody tr th {\n",
       "        vertical-align: top;\n",
       "    }\n",
       "\n",
       "    .dataframe thead th {\n",
       "        text-align: right;\n",
       "    }\n",
       "</style>\n",
       "<table border=\"1\" class=\"dataframe\">\n",
       "  <thead>\n",
       "    <tr style=\"text-align: right;\">\n",
       "      <th></th>\n",
       "      <th>px</th>\n",
       "      <th>pz</th>\n",
       "      <th>start_speed</th>\n",
       "      <th>end_speed</th>\n",
       "      <th>spin_rate</th>\n",
       "      <th>spin_dir</th>\n",
       "      <th>break_angle</th>\n",
       "      <th>break_length</th>\n",
       "      <th>break_y</th>\n",
       "      <th>ax</th>\n",
       "      <th>...</th>\n",
       "      <th>event</th>\n",
       "      <th>g_id</th>\n",
       "      <th>inning</th>\n",
       "      <th>o</th>\n",
       "      <th>p_score</th>\n",
       "      <th>p_throws</th>\n",
       "      <th>pitcher_id</th>\n",
       "      <th>stand</th>\n",
       "      <th>top</th>\n",
       "      <th>Batters Name</th>\n",
       "    </tr>\n",
       "  </thead>\n",
       "  <tbody>\n",
       "    <tr>\n",
       "      <th>0</th>\n",
       "      <td>0.416</td>\n",
       "      <td>2.963</td>\n",
       "      <td>92.9</td>\n",
       "      <td>84.1</td>\n",
       "      <td>2305.052</td>\n",
       "      <td>159.235</td>\n",
       "      <td>-25.0</td>\n",
       "      <td>3.2</td>\n",
       "      <td>23.7</td>\n",
       "      <td>7.665</td>\n",
       "      <td>...</td>\n",
       "      <td>Groundout</td>\n",
       "      <td>201500001</td>\n",
       "      <td>1</td>\n",
       "      <td>1</td>\n",
       "      <td>0</td>\n",
       "      <td>L</td>\n",
       "      <td>452657</td>\n",
       "      <td>L</td>\n",
       "      <td>True</td>\n",
       "      <td>Matt Carpenter</td>\n",
       "    </tr>\n",
       "    <tr>\n",
       "      <th>1</th>\n",
       "      <td>-0.191</td>\n",
       "      <td>2.347</td>\n",
       "      <td>92.8</td>\n",
       "      <td>84.1</td>\n",
       "      <td>2689.935</td>\n",
       "      <td>151.402</td>\n",
       "      <td>-40.7</td>\n",
       "      <td>3.4</td>\n",
       "      <td>23.7</td>\n",
       "      <td>12.043</td>\n",
       "      <td>...</td>\n",
       "      <td>Groundout</td>\n",
       "      <td>201500001</td>\n",
       "      <td>1</td>\n",
       "      <td>1</td>\n",
       "      <td>0</td>\n",
       "      <td>L</td>\n",
       "      <td>452657</td>\n",
       "      <td>L</td>\n",
       "      <td>True</td>\n",
       "      <td>Matt Carpenter</td>\n",
       "    </tr>\n",
       "    <tr>\n",
       "      <th>2</th>\n",
       "      <td>-0.518</td>\n",
       "      <td>3.284</td>\n",
       "      <td>94.1</td>\n",
       "      <td>85.2</td>\n",
       "      <td>2647.972</td>\n",
       "      <td>145.125</td>\n",
       "      <td>-43.7</td>\n",
       "      <td>3.7</td>\n",
       "      <td>23.7</td>\n",
       "      <td>14.368</td>\n",
       "      <td>...</td>\n",
       "      <td>Groundout</td>\n",
       "      <td>201500001</td>\n",
       "      <td>1</td>\n",
       "      <td>1</td>\n",
       "      <td>0</td>\n",
       "      <td>L</td>\n",
       "      <td>452657</td>\n",
       "      <td>L</td>\n",
       "      <td>True</td>\n",
       "      <td>Matt Carpenter</td>\n",
       "    </tr>\n",
       "    <tr>\n",
       "      <th>3</th>\n",
       "      <td>-0.641</td>\n",
       "      <td>1.221</td>\n",
       "      <td>91.0</td>\n",
       "      <td>84.0</td>\n",
       "      <td>1289.590</td>\n",
       "      <td>169.751</td>\n",
       "      <td>-1.3</td>\n",
       "      <td>5.0</td>\n",
       "      <td>23.8</td>\n",
       "      <td>2.104</td>\n",
       "      <td>...</td>\n",
       "      <td>Groundout</td>\n",
       "      <td>201500001</td>\n",
       "      <td>1</td>\n",
       "      <td>1</td>\n",
       "      <td>0</td>\n",
       "      <td>L</td>\n",
       "      <td>452657</td>\n",
       "      <td>L</td>\n",
       "      <td>True</td>\n",
       "      <td>Matt Carpenter</td>\n",
       "    </tr>\n",
       "    <tr>\n",
       "      <th>4</th>\n",
       "      <td>-1.821</td>\n",
       "      <td>2.083</td>\n",
       "      <td>75.4</td>\n",
       "      <td>69.6</td>\n",
       "      <td>1374.569</td>\n",
       "      <td>280.671</td>\n",
       "      <td>18.4</td>\n",
       "      <td>12.0</td>\n",
       "      <td>23.8</td>\n",
       "      <td>-10.280</td>\n",
       "      <td>...</td>\n",
       "      <td>Groundout</td>\n",
       "      <td>201500001</td>\n",
       "      <td>1</td>\n",
       "      <td>1</td>\n",
       "      <td>0</td>\n",
       "      <td>L</td>\n",
       "      <td>452657</td>\n",
       "      <td>L</td>\n",
       "      <td>True</td>\n",
       "      <td>Matt Carpenter</td>\n",
       "    </tr>\n",
       "  </tbody>\n",
       "</table>\n",
       "<p>5 rows × 50 columns</p>\n",
       "</div>"
      ],
      "text/plain": [
       "      px     pz  start_speed  end_speed  spin_rate  spin_dir  break_angle  \\\n",
       "0  0.416  2.963         92.9       84.1   2305.052   159.235        -25.0   \n",
       "1 -0.191  2.347         92.8       84.1   2689.935   151.402        -40.7   \n",
       "2 -0.518  3.284         94.1       85.2   2647.972   145.125        -43.7   \n",
       "3 -0.641  1.221         91.0       84.0   1289.590   169.751         -1.3   \n",
       "4 -1.821  2.083         75.4       69.6   1374.569   280.671         18.4   \n",
       "\n",
       "   break_length  break_y      ax  ...      event       g_id  inning  o  \\\n",
       "0           3.2     23.7   7.665  ...  Groundout  201500001       1  1   \n",
       "1           3.4     23.7  12.043  ...  Groundout  201500001       1  1   \n",
       "2           3.7     23.7  14.368  ...  Groundout  201500001       1  1   \n",
       "3           5.0     23.8   2.104  ...  Groundout  201500001       1  1   \n",
       "4          12.0     23.8 -10.280  ...  Groundout  201500001       1  1   \n",
       "\n",
       "   p_score  p_throws  pitcher_id  stand   top    Batters Name  \n",
       "0        0         L      452657      L  True  Matt Carpenter  \n",
       "1        0         L      452657      L  True  Matt Carpenter  \n",
       "2        0         L      452657      L  True  Matt Carpenter  \n",
       "3        0         L      452657      L  True  Matt Carpenter  \n",
       "4        0         L      452657      L  True  Matt Carpenter  \n",
       "\n",
       "[5 rows x 50 columns]"
      ]
     },
     "execution_count": 10,
     "metadata": {},
     "output_type": "execute_result"
    }
   ],
   "source": [
    "import pandas as pd\n",
    "import numpy as np\n",
    "import matplotlib.pyplot as plt\n",
    "\n",
    "pitches= pd.read_csv('pitches.csv')\n",
    "atbats= pd.read_csv('atbats.csv')\n",
    "player_name= pd.read_csv('player_names.csv')\n",
    "pitches['ab_id'] = pitches['ab_id'].astype(int)\n",
    "player_name.rename(columns={'id': 'batter_id'}, inplace=True)\n",
    "data=pd.merge(pitches, atbats,  how='left', left_on='ab_id', right_on = 'ab_id')\n",
    "data=pd.merge(data, player_name,  how='left', left_on='batter_id', right_on = 'batter_id')\n",
    "data['Batters Name'] = data[['first_name', 'last_name']].apply(lambda x: ' '.join(x), axis=1)\n",
    "data=data.drop(['first_name','last_name','code'],axis=1)\n",
    "data=data.dropna() #Quitar nulos\n",
    "data.head()\n",
    "\n"
   ]
  },
  {
   "attachments": {},
   "cell_type": "markdown",
   "metadata": {},
   "source": [
    "### Quitamos las columnas que no nos interesan y los tipos de pitches algo menos comunes que no son objeto de estudio"
   ]
  },
  {
   "cell_type": "code",
   "execution_count": 11,
   "metadata": {},
   "outputs": [],
   "source": [
    "data=data.drop(['type','on_1b','on_2b','on_3b','pitch_num','outs','b_score','event_num','batter_id','p_score','p_throws','Batters Name','stand','inning','top','type_confidence','ab_id','o','pitcher_id','event','g_id','b_count','s_count','sz_bot','sz_top','px','pz'],axis=1)\n",
    "data = data.drop(index=data[data[\"pitch_type\"] == \"AB\"].index)\n",
    "data = data.drop(index=data[data[\"pitch_type\"] == \"FA\"].index)\n",
    "data = data.drop(index=data[data[\"pitch_type\"] == \"UN\"].index)\n",
    "data = data.drop(index=data[data[\"pitch_type\"] == \"SC\"].index)\n",
    "data = data.drop(index=data[data[\"pitch_type\"] == \"PO\"].index)\n",
    "data = data.drop(index=data[data[\"pitch_type\"] == \"FO\"].index)\n",
    "data = data.drop(index=data[data[\"pitch_type\"] == \"EP\"].index)\n",
    "data = data.drop(index=data[data[\"pitch_type\"] == \"IN\"].index)\n",
    "data = data.drop(index=data[data[\"pitch_type\"] == \"KC\"].index)\n",
    "data = data.drop(index=data[data[\"pitch_type\"] == \"FS\"].index)\n",
    "data = data.drop(index=data[data[\"pitch_type\"] == \"KN\"].index)\n",
    "data = data.drop(index=data[data[\"pitch_type\"] == \"FT\"].index)\n",
    "data = data.drop(index=data[data[\"pitch_type\"] == \"SI\"].index)\n",
    "\n"
   ]
  },
  {
   "attachments": {},
   "cell_type": "markdown",
   "metadata": {},
   "source": [
    "### Seleccionamos las primeras 300000 filas y separamos la variable target (y) de los datos (X)"
   ]
  },
  {
   "cell_type": "code",
   "execution_count": 12,
   "metadata": {},
   "outputs": [],
   "source": [
    "data=data[0:300000]\n",
    "X=data.drop(['pitch_type'],axis=1) \n",
    "y=data[\"pitch_type\"]\n",
    "columns=X.columns\n"
   ]
  },
  {
   "attachments": {},
   "cell_type": "markdown",
   "metadata": {},
   "source": [
    "### Vemos cuantas filas y columnas tenemos ahora y los nombres de las columnas"
   ]
  },
  {
   "cell_type": "code",
   "execution_count": 13,
   "metadata": {},
   "outputs": [
    {
     "name": "stdout",
     "output_type": "stream",
     "text": [
      "23\n",
      "300000\n",
      "Index(['start_speed', 'end_speed', 'spin_rate', 'spin_dir', 'break_angle',\n",
      "       'break_length', 'break_y', 'ax', 'ay', 'az', 'vx0', 'vy0', 'vz0', 'x',\n",
      "       'x0', 'y', 'y0', 'z0', 'pfx_x', 'pfx_z', 'nasty', 'zone'],\n",
      "      dtype='object')\n"
     ]
    }
   ],
   "source": [
    "print(len(data.columns))\n",
    "print(len(data))\n",
    "print(columns)\n"
   ]
  },
  {
   "attachments": {},
   "cell_type": "markdown",
   "metadata": {},
   "source": [
    "### Separamos columnas categoricas de numericas. No habra categoricas"
   ]
  },
  {
   "cell_type": "code",
   "execution_count": 14,
   "metadata": {},
   "outputs": [
    {
     "data": {
      "text/plain": [
       "[]"
      ]
     },
     "execution_count": 14,
     "metadata": {},
     "output_type": "execute_result"
    }
   ],
   "source": [
    "from sklearn.compose import ColumnTransformer\n",
    "from sklearn.preprocessing import OneHotEncoder\n",
    "from sklearn.metrics import accuracy_score\n",
    "from sklearn.metrics import confusion_matrix\n",
    "\n",
    "# One-hot-encoding of the categoric variables\n",
    "# ------------------------------------------------------------------------------\n",
    "# Identification of categoric and numerical variables/column\n",
    "cat_cols = X.select_dtypes(include=['object', 'category']).columns.to_list()\n",
    "numeric_cols = X.select_dtypes(include=['float64', 'int64']).columns.to_list()\n",
    "cat_cols"
   ]
  },
  {
   "attachments": {},
   "cell_type": "markdown",
   "metadata": {},
   "source": [
    "### Escalamos las columnas respecto al Minimo y al Maximo"
   ]
  },
  {
   "cell_type": "code",
   "execution_count": 15,
   "metadata": {},
   "outputs": [
    {
     "data": {
      "text/html": [
       "<div>\n",
       "<style scoped>\n",
       "    .dataframe tbody tr th:only-of-type {\n",
       "        vertical-align: middle;\n",
       "    }\n",
       "\n",
       "    .dataframe tbody tr th {\n",
       "        vertical-align: top;\n",
       "    }\n",
       "\n",
       "    .dataframe thead th {\n",
       "        text-align: right;\n",
       "    }\n",
       "</style>\n",
       "<table border=\"1\" class=\"dataframe\">\n",
       "  <thead>\n",
       "    <tr style=\"text-align: right;\">\n",
       "      <th></th>\n",
       "      <th>start_speed</th>\n",
       "      <th>end_speed</th>\n",
       "      <th>spin_rate</th>\n",
       "      <th>spin_dir</th>\n",
       "      <th>break_angle</th>\n",
       "      <th>break_length</th>\n",
       "      <th>break_y</th>\n",
       "      <th>ax</th>\n",
       "      <th>ay</th>\n",
       "      <th>az</th>\n",
       "      <th>...</th>\n",
       "      <th>vz0</th>\n",
       "      <th>x</th>\n",
       "      <th>x0</th>\n",
       "      <th>y</th>\n",
       "      <th>y0</th>\n",
       "      <th>z0</th>\n",
       "      <th>pfx_x</th>\n",
       "      <th>pfx_z</th>\n",
       "      <th>nasty</th>\n",
       "      <th>zone</th>\n",
       "    </tr>\n",
       "  </thead>\n",
       "  <tbody>\n",
       "    <tr>\n",
       "      <th>0</th>\n",
       "      <td>0.819588</td>\n",
       "      <td>0.787992</td>\n",
       "      <td>0.507389</td>\n",
       "      <td>0.442325</td>\n",
       "      <td>0.180575</td>\n",
       "      <td>0.106061</td>\n",
       "      <td>0.375</td>\n",
       "      <td>0.649140</td>\n",
       "      <td>0.670950</td>\n",
       "      <td>0.674595</td>\n",
       "      <td>...</td>\n",
       "      <td>0.491971</td>\n",
       "      <td>0.405257</td>\n",
       "      <td>0.736103</td>\n",
       "      <td>0.635145</td>\n",
       "      <td>0.0</td>\n",
       "      <td>0.337485</td>\n",
       "      <td>0.594686</td>\n",
       "      <td>0.738349</td>\n",
       "      <td>0.521277</td>\n",
       "      <td>0.153846</td>\n",
       "    </tr>\n",
       "    <tr>\n",
       "      <th>1</th>\n",
       "      <td>0.817869</td>\n",
       "      <td>0.787992</td>\n",
       "      <td>0.592154</td>\n",
       "      <td>0.420567</td>\n",
       "      <td>0.136757</td>\n",
       "      <td>0.113636</td>\n",
       "      <td>0.375</td>\n",
       "      <td>0.725262</td>\n",
       "      <td>0.660507</td>\n",
       "      <td>0.704206</td>\n",
       "      <td>...</td>\n",
       "      <td>0.423718</td>\n",
       "      <td>0.497977</td>\n",
       "      <td>0.722884</td>\n",
       "      <td>0.701668</td>\n",
       "      <td>0.0</td>\n",
       "      <td>0.338244</td>\n",
       "      <td>0.662804</td>\n",
       "      <td>0.765451</td>\n",
       "      <td>0.265957</td>\n",
       "      <td>0.307692</td>\n",
       "    </tr>\n",
       "    <tr>\n",
       "      <th>2</th>\n",
       "      <td>0.840206</td>\n",
       "      <td>0.808630</td>\n",
       "      <td>0.582912</td>\n",
       "      <td>0.403131</td>\n",
       "      <td>0.128384</td>\n",
       "      <td>0.125000</td>\n",
       "      <td>0.375</td>\n",
       "      <td>0.765688</td>\n",
       "      <td>0.684366</td>\n",
       "      <td>0.680912</td>\n",
       "      <td>...</td>\n",
       "      <td>0.514596</td>\n",
       "      <td>0.547902</td>\n",
       "      <td>0.723541</td>\n",
       "      <td>0.600464</td>\n",
       "      <td>0.0</td>\n",
       "      <td>0.339156</td>\n",
       "      <td>0.692199</td>\n",
       "      <td>0.737082</td>\n",
       "      <td>0.457447</td>\n",
       "      <td>0.000000</td>\n",
       "    </tr>\n",
       "    <tr>\n",
       "      <th>3</th>\n",
       "      <td>0.786942</td>\n",
       "      <td>0.786116</td>\n",
       "      <td>0.283747</td>\n",
       "      <td>0.471536</td>\n",
       "      <td>0.246721</td>\n",
       "      <td>0.174242</td>\n",
       "      <td>0.500</td>\n",
       "      <td>0.552449</td>\n",
       "      <td>0.527230</td>\n",
       "      <td>0.539094</td>\n",
       "      <td>...</td>\n",
       "      <td>0.403535</td>\n",
       "      <td>0.439498</td>\n",
       "      <td>0.736021</td>\n",
       "      <td>0.749884</td>\n",
       "      <td>0.0</td>\n",
       "      <td>0.323512</td>\n",
       "      <td>0.510175</td>\n",
       "      <td>0.624873</td>\n",
       "      <td>0.372340</td>\n",
       "      <td>0.923077</td>\n",
       "    </tr>\n",
       "    <tr>\n",
       "      <th>4</th>\n",
       "      <td>0.518900</td>\n",
       "      <td>0.515947</td>\n",
       "      <td>0.302463</td>\n",
       "      <td>0.779647</td>\n",
       "      <td>0.301702</td>\n",
       "      <td>0.439394</td>\n",
       "      <td>0.500</td>\n",
       "      <td>0.337124</td>\n",
       "      <td>0.377857</td>\n",
       "      <td>0.324774</td>\n",
       "      <td>...</td>\n",
       "      <td>0.640512</td>\n",
       "      <td>0.587120</td>\n",
       "      <td>0.727810</td>\n",
       "      <td>0.709000</td>\n",
       "      <td>0.0</td>\n",
       "      <td>0.376215</td>\n",
       "      <td>0.238836</td>\n",
       "      <td>0.419706</td>\n",
       "      <td>0.127660</td>\n",
       "      <td>0.923077</td>\n",
       "    </tr>\n",
       "  </tbody>\n",
       "</table>\n",
       "<p>5 rows × 22 columns</p>\n",
       "</div>"
      ],
      "text/plain": [
       "   start_speed  end_speed  spin_rate  spin_dir  break_angle  break_length  \\\n",
       "0     0.819588   0.787992   0.507389  0.442325     0.180575      0.106061   \n",
       "1     0.817869   0.787992   0.592154  0.420567     0.136757      0.113636   \n",
       "2     0.840206   0.808630   0.582912  0.403131     0.128384      0.125000   \n",
       "3     0.786942   0.786116   0.283747  0.471536     0.246721      0.174242   \n",
       "4     0.518900   0.515947   0.302463  0.779647     0.301702      0.439394   \n",
       "\n",
       "   break_y        ax        ay        az  ...       vz0         x        x0  \\\n",
       "0    0.375  0.649140  0.670950  0.674595  ...  0.491971  0.405257  0.736103   \n",
       "1    0.375  0.725262  0.660507  0.704206  ...  0.423718  0.497977  0.722884   \n",
       "2    0.375  0.765688  0.684366  0.680912  ...  0.514596  0.547902  0.723541   \n",
       "3    0.500  0.552449  0.527230  0.539094  ...  0.403535  0.439498  0.736021   \n",
       "4    0.500  0.337124  0.377857  0.324774  ...  0.640512  0.587120  0.727810   \n",
       "\n",
       "          y   y0        z0     pfx_x     pfx_z     nasty      zone  \n",
       "0  0.635145  0.0  0.337485  0.594686  0.738349  0.521277  0.153846  \n",
       "1  0.701668  0.0  0.338244  0.662804  0.765451  0.265957  0.307692  \n",
       "2  0.600464  0.0  0.339156  0.692199  0.737082  0.457447  0.000000  \n",
       "3  0.749884  0.0  0.323512  0.510175  0.624873  0.372340  0.923077  \n",
       "4  0.709000  0.0  0.376215  0.238836  0.419706  0.127660  0.923077  \n",
       "\n",
       "[5 rows x 22 columns]"
      ]
     },
     "execution_count": 15,
     "metadata": {},
     "output_type": "execute_result"
    }
   ],
   "source": [
    "from sklearn import preprocessing\n",
    "\n",
    "scaler = preprocessing.MinMaxScaler() #feature_range=(0, 2) insise parenthesis if a different scale is needed\n",
    "names = X.columns  # collecting names of columns\n",
    "d = scaler.fit_transform(X)  # transforming X to normalized\n",
    "X_norm = pd.DataFrame(d, columns=names) # creation of Xframe normalized \n",
    "X_norm.head()\n",
    "#X_denorm=scaler.inverse_transform(X) Denormalizar variables"
   ]
  },
  {
   "attachments": {},
   "cell_type": "markdown",
   "metadata": {},
   "source": [
    "### Codificamos los tipos de pitches en números del 1 al 5"
   ]
  },
  {
   "cell_type": "code",
   "execution_count": 16,
   "metadata": {},
   "outputs": [],
   "source": [
    "from sklearn.preprocessing import LabelEncoder\n",
    "# create an instance of LabelEncoder\n",
    "le = LabelEncoder()\n",
    "# fit and transform the classes into encoded numbers\n",
    "encoded_classes = le.fit_transform(y.unique())"
   ]
  },
  {
   "cell_type": "code",
   "execution_count": 17,
   "metadata": {},
   "outputs": [],
   "source": [
    "# Define a dictionary to map the categories to numbers\n",
    "cat_to_num = {'FF': 1, 'SL': 2, 'CH': 3,'CU' : 4, 'FC' : 5}\n",
    "\n",
    "# Map the categorical values to the corresponding numbers\n",
    "y= y.replace(cat_to_num)"
   ]
  },
  {
   "attachments": {},
   "cell_type": "markdown",
   "metadata": {},
   "source": [
    "### Dividimos los datos, un 80% para entrenamiento y un 20 % para test"
   ]
  },
  {
   "cell_type": "code",
   "execution_count": 18,
   "metadata": {},
   "outputs": [
    {
     "data": {
      "text/html": [
       "<div>\n",
       "<style scoped>\n",
       "    .dataframe tbody tr th:only-of-type {\n",
       "        vertical-align: middle;\n",
       "    }\n",
       "\n",
       "    .dataframe tbody tr th {\n",
       "        vertical-align: top;\n",
       "    }\n",
       "\n",
       "    .dataframe thead th {\n",
       "        text-align: right;\n",
       "    }\n",
       "</style>\n",
       "<table border=\"1\" class=\"dataframe\">\n",
       "  <thead>\n",
       "    <tr style=\"text-align: right;\">\n",
       "      <th></th>\n",
       "      <th>start_speed</th>\n",
       "      <th>end_speed</th>\n",
       "      <th>spin_rate</th>\n",
       "      <th>spin_dir</th>\n",
       "      <th>break_angle</th>\n",
       "      <th>break_length</th>\n",
       "      <th>break_y</th>\n",
       "      <th>ax</th>\n",
       "      <th>ay</th>\n",
       "      <th>az</th>\n",
       "      <th>...</th>\n",
       "      <th>vz0</th>\n",
       "      <th>x</th>\n",
       "      <th>x0</th>\n",
       "      <th>y</th>\n",
       "      <th>y0</th>\n",
       "      <th>z0</th>\n",
       "      <th>pfx_x</th>\n",
       "      <th>pfx_z</th>\n",
       "      <th>nasty</th>\n",
       "      <th>zone</th>\n",
       "    </tr>\n",
       "  </thead>\n",
       "  <tbody>\n",
       "    <tr>\n",
       "      <th>16748</th>\n",
       "      <td>0.795533</td>\n",
       "      <td>0.810507</td>\n",
       "      <td>0.490236</td>\n",
       "      <td>0.537739</td>\n",
       "      <td>0.292771</td>\n",
       "      <td>0.106061</td>\n",
       "      <td>0.625</td>\n",
       "      <td>0.432007</td>\n",
       "      <td>0.450478</td>\n",
       "      <td>0.670552</td>\n",
       "      <td>...</td>\n",
       "      <td>0.314857</td>\n",
       "      <td>0.477341</td>\n",
       "      <td>0.388948</td>\n",
       "      <td>0.786551</td>\n",
       "      <td>0.0</td>\n",
       "      <td>0.423603</td>\n",
       "      <td>0.403053</td>\n",
       "      <td>0.735562</td>\n",
       "      <td>0.361702</td>\n",
       "      <td>0.923077</td>\n",
       "    </tr>\n",
       "    <tr>\n",
       "      <th>29741</th>\n",
       "      <td>0.673540</td>\n",
       "      <td>0.669794</td>\n",
       "      <td>0.089609</td>\n",
       "      <td>0.117100</td>\n",
       "      <td>0.233324</td>\n",
       "      <td>0.340909</td>\n",
       "      <td>0.500</td>\n",
       "      <td>0.556431</td>\n",
       "      <td>0.490840</td>\n",
       "      <td>0.314667</td>\n",
       "      <td>...</td>\n",
       "      <td>0.554998</td>\n",
       "      <td>0.387707</td>\n",
       "      <td>0.323508</td>\n",
       "      <td>0.761510</td>\n",
       "      <td>0.0</td>\n",
       "      <td>0.386391</td>\n",
       "      <td>0.520068</td>\n",
       "      <td>0.417680</td>\n",
       "      <td>0.404255</td>\n",
       "      <td>0.615385</td>\n",
       "    </tr>\n",
       "    <tr>\n",
       "      <th>51485</th>\n",
       "      <td>0.817869</td>\n",
       "      <td>0.812383</td>\n",
       "      <td>0.506099</td>\n",
       "      <td>0.636469</td>\n",
       "      <td>0.357801</td>\n",
       "      <td>0.185606</td>\n",
       "      <td>0.500</td>\n",
       "      <td>0.232521</td>\n",
       "      <td>0.567638</td>\n",
       "      <td>0.578070</td>\n",
       "      <td>...</td>\n",
       "      <td>0.475054</td>\n",
       "      <td>0.562127</td>\n",
       "      <td>0.427047</td>\n",
       "      <td>0.627785</td>\n",
       "      <td>0.0</td>\n",
       "      <td>0.437120</td>\n",
       "      <td>0.230921</td>\n",
       "      <td>0.651469</td>\n",
       "      <td>0.478723</td>\n",
       "      <td>0.000000</td>\n",
       "    </tr>\n",
       "    <tr>\n",
       "      <th>239130</th>\n",
       "      <td>0.823024</td>\n",
       "      <td>0.816135</td>\n",
       "      <td>0.436167</td>\n",
       "      <td>0.639122</td>\n",
       "      <td>0.336869</td>\n",
       "      <td>0.193182</td>\n",
       "      <td>0.500</td>\n",
       "      <td>0.267557</td>\n",
       "      <td>0.586888</td>\n",
       "      <td>0.544053</td>\n",
       "      <td>...</td>\n",
       "      <td>0.403294</td>\n",
       "      <td>0.534479</td>\n",
       "      <td>0.417522</td>\n",
       "      <td>0.778471</td>\n",
       "      <td>0.0</td>\n",
       "      <td>0.364976</td>\n",
       "      <td>0.261730</td>\n",
       "      <td>0.621834</td>\n",
       "      <td>0.436170</td>\n",
       "      <td>0.461538</td>\n",
       "    </tr>\n",
       "    <tr>\n",
       "      <th>148454</th>\n",
       "      <td>0.785223</td>\n",
       "      <td>0.769231</td>\n",
       "      <td>0.488226</td>\n",
       "      <td>0.427914</td>\n",
       "      <td>0.183645</td>\n",
       "      <td>0.132576</td>\n",
       "      <td>0.375</td>\n",
       "      <td>0.670475</td>\n",
       "      <td>0.584300</td>\n",
       "      <td>0.643862</td>\n",
       "      <td>...</td>\n",
       "      <td>0.378228</td>\n",
       "      <td>0.679288</td>\n",
       "      <td>0.661959</td>\n",
       "      <td>0.777391</td>\n",
       "      <td>0.0</td>\n",
       "      <td>0.361179</td>\n",
       "      <td>0.618994</td>\n",
       "      <td>0.721631</td>\n",
       "      <td>0.276596</td>\n",
       "      <td>0.923077</td>\n",
       "    </tr>\n",
       "  </tbody>\n",
       "</table>\n",
       "<p>5 rows × 22 columns</p>\n",
       "</div>"
      ],
      "text/plain": [
       "        start_speed  end_speed  spin_rate  spin_dir  break_angle  \\\n",
       "16748      0.795533   0.810507   0.490236  0.537739     0.292771   \n",
       "29741      0.673540   0.669794   0.089609  0.117100     0.233324   \n",
       "51485      0.817869   0.812383   0.506099  0.636469     0.357801   \n",
       "239130     0.823024   0.816135   0.436167  0.639122     0.336869   \n",
       "148454     0.785223   0.769231   0.488226  0.427914     0.183645   \n",
       "\n",
       "        break_length  break_y        ax        ay        az  ...       vz0  \\\n",
       "16748       0.106061    0.625  0.432007  0.450478  0.670552  ...  0.314857   \n",
       "29741       0.340909    0.500  0.556431  0.490840  0.314667  ...  0.554998   \n",
       "51485       0.185606    0.500  0.232521  0.567638  0.578070  ...  0.475054   \n",
       "239130      0.193182    0.500  0.267557  0.586888  0.544053  ...  0.403294   \n",
       "148454      0.132576    0.375  0.670475  0.584300  0.643862  ...  0.378228   \n",
       "\n",
       "               x        x0         y   y0        z0     pfx_x     pfx_z  \\\n",
       "16748   0.477341  0.388948  0.786551  0.0  0.423603  0.403053  0.735562   \n",
       "29741   0.387707  0.323508  0.761510  0.0  0.386391  0.520068  0.417680   \n",
       "51485   0.562127  0.427047  0.627785  0.0  0.437120  0.230921  0.651469   \n",
       "239130  0.534479  0.417522  0.778471  0.0  0.364976  0.261730  0.621834   \n",
       "148454  0.679288  0.661959  0.777391  0.0  0.361179  0.618994  0.721631   \n",
       "\n",
       "           nasty      zone  \n",
       "16748   0.361702  0.923077  \n",
       "29741   0.404255  0.615385  \n",
       "51485   0.478723  0.000000  \n",
       "239130  0.436170  0.461538  \n",
       "148454  0.276596  0.923077  \n",
       "\n",
       "[5 rows x 22 columns]"
      ]
     },
     "execution_count": 18,
     "metadata": {},
     "output_type": "execute_result"
    }
   ],
   "source": [
    "from sklearn.model_selection import train_test_split\n",
    "\n",
    "\n",
    "X_train, X_test, y_train, y_test = train_test_split(\n",
    "                                        X_norm,\n",
    "                                        y,\n",
    "                                        train_size   = 0.80,  # 80% for training\n",
    "                                        random_state = 1233,\n",
    "                                        shuffle      = True\n",
    "                                    )\n",
    "X_train.head()"
   ]
  },
  {
   "cell_type": "code",
   "execution_count": 19,
   "metadata": {},
   "outputs": [
    {
     "name": "stdout",
     "output_type": "stream",
     "text": [
      "240000\n",
      "60000\n"
     ]
    }
   ],
   "source": [
    "print(len(X_train))\n",
    "print(len(X_test))"
   ]
  },
  {
   "attachments": {},
   "cell_type": "markdown",
   "metadata": {},
   "source": [
    "### Comprobamos cuantos pitches hay por tipo"
   ]
  },
  {
   "cell_type": "code",
   "execution_count": 20,
   "metadata": {},
   "outputs": [
    {
     "data": {
      "text/plain": [
       "1    115223\n",
       "2     46963\n",
       "3     34759\n",
       "4     23916\n",
       "5     19139\n",
       "Name: pitch_type, dtype: int64"
      ]
     },
     "execution_count": 20,
     "metadata": {},
     "output_type": "execute_result"
    }
   ],
   "source": [
    "y_train.value_counts()"
   ]
  },
  {
   "attachments": {},
   "cell_type": "markdown",
   "metadata": {},
   "source": [
    "### Aplicamos NearMiss para hacer undersampling y vemos cuantas hay de cada clase ahora"
   ]
  },
  {
   "cell_type": "code",
   "execution_count": 21,
   "metadata": {},
   "outputs": [],
   "source": [
    "from imblearn.under_sampling import NearMiss\n",
    "nr = NearMiss()\n",
    "X_train_res_arr, y_train_res_arr = nr.fit_resample(X_train, y_train.ravel())"
   ]
  },
  {
   "cell_type": "code",
   "execution_count": 22,
   "metadata": {},
   "outputs": [
    {
     "name": "stdout",
     "output_type": "stream",
     "text": [
      "1    19139\n",
      "2    19139\n",
      "3    19139\n",
      "4    19139\n",
      "5    19139\n",
      "dtype: int64\n"
     ]
    }
   ],
   "source": [
    "y_train_res=pd.DataFrame(y_train_res_arr)\n",
    "X_train_res=pd.DataFrame(X_train_res_arr,columns=columns)\n",
    "print(y_train_res.value_counts())\n"
   ]
  },
  {
   "attachments": {},
   "cell_type": "markdown",
   "metadata": {},
   "source": [
    "## ARBOL DE DECISIÓN"
   ]
  },
  {
   "cell_type": "code",
   "execution_count": 217,
   "metadata": {},
   "outputs": [
    {
     "name": "stdout",
     "output_type": "stream",
     "text": [
      "Initial score:  0.7962631414593525\n",
      "Initial parameters:  {'criterion': 'entropy', 'max_depth': None, 'max_features': 'auto', 'min_impurity_decrease': 0.0001, 'min_samples_split': 40}\n"
     ]
    }
   ],
   "source": [
    "from sklearn.model_selection import GridSearchCV\n",
    "from sklearn.tree import DecisionTreeClassifier\n",
    "# Grid Search\n",
    "param_grid = {\n",
    "    'max_depth':[5,10,20,None],\n",
    "    'min_samples_split':[20,40,60,80],\n",
    "    'min_impurity_decrease': [0.0001, 0.0005, 0.001],\n",
    "    'criterion' :['gini', 'entropy'],\n",
    "    'max_features': ['auto', 'sqrt', 'log2']\n",
    "}\n",
    "gridSearch = GridSearchCV(DecisionTreeClassifier(random_state=1), param_grid, cv=10, n_jobs=1)\n",
    "gridSearch.fit(X_train_res, y_train_res)\n",
    "print('Initial score: ', gridSearch.best_score_)\n",
    "print('Initial parameters: ', gridSearch.best_params_)"
   ]
  },
  {
   "cell_type": "code",
   "execution_count": 23,
   "metadata": {},
   "outputs": [],
   "source": [
    "from sklearn.tree import DecisionTreeClassifier\n",
    "model = DecisionTreeClassifier(criterion='entropy',max_depth=None, max_features='auto', min_impurity_decrease=0.0001, min_samples_split= 40,random_state = 15)\n",
    "model.fit(X_train_res, y_train_res)\n",
    "predicted = model.predict(X_test)"
   ]
  },
  {
   "cell_type": "code",
   "execution_count": 19,
   "metadata": {},
   "outputs": [
    {
     "name": "stdout",
     "output_type": "stream",
     "text": [
      "Importance  of the model predictors\n",
      "-------------------------------------------\n"
     ]
    },
    {
     "data": {
      "text/html": [
       "<div>\n",
       "<style scoped>\n",
       "    .dataframe tbody tr th:only-of-type {\n",
       "        vertical-align: middle;\n",
       "    }\n",
       "\n",
       "    .dataframe tbody tr th {\n",
       "        vertical-align: top;\n",
       "    }\n",
       "\n",
       "    .dataframe thead th {\n",
       "        text-align: right;\n",
       "    }\n",
       "</style>\n",
       "<table border=\"1\" class=\"dataframe\">\n",
       "  <thead>\n",
       "    <tr style=\"text-align: right;\">\n",
       "      <th></th>\n",
       "      <th>predictor</th>\n",
       "      <th>importance</th>\n",
       "    </tr>\n",
       "  </thead>\n",
       "  <tbody>\n",
       "    <tr>\n",
       "      <th>19</th>\n",
       "      <td>pfx_z</td>\n",
       "      <td>0.187409</td>\n",
       "    </tr>\n",
       "    <tr>\n",
       "      <th>11</th>\n",
       "      <td>vy0</td>\n",
       "      <td>0.146709</td>\n",
       "    </tr>\n",
       "    <tr>\n",
       "      <th>12</th>\n",
       "      <td>vz0</td>\n",
       "      <td>0.114867</td>\n",
       "    </tr>\n",
       "    <tr>\n",
       "      <th>5</th>\n",
       "      <td>break_length</td>\n",
       "      <td>0.112115</td>\n",
       "    </tr>\n",
       "    <tr>\n",
       "      <th>9</th>\n",
       "      <td>az</td>\n",
       "      <td>0.099370</td>\n",
       "    </tr>\n",
       "    <tr>\n",
       "      <th>18</th>\n",
       "      <td>pfx_x</td>\n",
       "      <td>0.067551</td>\n",
       "    </tr>\n",
       "    <tr>\n",
       "      <th>7</th>\n",
       "      <td>ax</td>\n",
       "      <td>0.047585</td>\n",
       "    </tr>\n",
       "    <tr>\n",
       "      <th>4</th>\n",
       "      <td>break_angle</td>\n",
       "      <td>0.041471</td>\n",
       "    </tr>\n",
       "    <tr>\n",
       "      <th>3</th>\n",
       "      <td>spin_dir</td>\n",
       "      <td>0.036695</td>\n",
       "    </tr>\n",
       "    <tr>\n",
       "      <th>2</th>\n",
       "      <td>spin_rate</td>\n",
       "      <td>0.032722</td>\n",
       "    </tr>\n",
       "    <tr>\n",
       "      <th>14</th>\n",
       "      <td>x0</td>\n",
       "      <td>0.030264</td>\n",
       "    </tr>\n",
       "    <tr>\n",
       "      <th>10</th>\n",
       "      <td>vx0</td>\n",
       "      <td>0.022956</td>\n",
       "    </tr>\n",
       "    <tr>\n",
       "      <th>0</th>\n",
       "      <td>start_speed</td>\n",
       "      <td>0.022627</td>\n",
       "    </tr>\n",
       "    <tr>\n",
       "      <th>17</th>\n",
       "      <td>z0</td>\n",
       "      <td>0.010764</td>\n",
       "    </tr>\n",
       "    <tr>\n",
       "      <th>1</th>\n",
       "      <td>end_speed</td>\n",
       "      <td>0.008625</td>\n",
       "    </tr>\n",
       "    <tr>\n",
       "      <th>13</th>\n",
       "      <td>x</td>\n",
       "      <td>0.006331</td>\n",
       "    </tr>\n",
       "    <tr>\n",
       "      <th>15</th>\n",
       "      <td>y</td>\n",
       "      <td>0.004107</td>\n",
       "    </tr>\n",
       "    <tr>\n",
       "      <th>20</th>\n",
       "      <td>nasty</td>\n",
       "      <td>0.003062</td>\n",
       "    </tr>\n",
       "    <tr>\n",
       "      <th>8</th>\n",
       "      <td>ay</td>\n",
       "      <td>0.002886</td>\n",
       "    </tr>\n",
       "    <tr>\n",
       "      <th>6</th>\n",
       "      <td>break_y</td>\n",
       "      <td>0.001032</td>\n",
       "    </tr>\n",
       "    <tr>\n",
       "      <th>21</th>\n",
       "      <td>zone</td>\n",
       "      <td>0.000851</td>\n",
       "    </tr>\n",
       "    <tr>\n",
       "      <th>16</th>\n",
       "      <td>y0</td>\n",
       "      <td>0.000000</td>\n",
       "    </tr>\n",
       "  </tbody>\n",
       "</table>\n",
       "</div>"
      ],
      "text/plain": [
       "       predictor  importance\n",
       "19         pfx_z    0.187409\n",
       "11           vy0    0.146709\n",
       "12           vz0    0.114867\n",
       "5   break_length    0.112115\n",
       "9             az    0.099370\n",
       "18         pfx_x    0.067551\n",
       "7             ax    0.047585\n",
       "4    break_angle    0.041471\n",
       "3       spin_dir    0.036695\n",
       "2      spin_rate    0.032722\n",
       "14            x0    0.030264\n",
       "10           vx0    0.022956\n",
       "0    start_speed    0.022627\n",
       "17            z0    0.010764\n",
       "1      end_speed    0.008625\n",
       "13             x    0.006331\n",
       "15             y    0.004107\n",
       "20         nasty    0.003062\n",
       "8             ay    0.002886\n",
       "6        break_y    0.001032\n",
       "21          zone    0.000851\n",
       "16            y0    0.000000"
      ]
     },
     "execution_count": 19,
     "metadata": {},
     "output_type": "execute_result"
    }
   ],
   "source": [
    "importance_predictors = pd.DataFrame(\n",
    "                            {'predictor': X_train_res.columns,\n",
    "                             'importance': model.feature_importances_}\n",
    "                            )\n",
    "print(\"Importance  of the model predictors\")\n",
    "print(\"-------------------------------------------\")\n",
    "importance_predictors.sort_values('importance', ascending=False)"
   ]
  },
  {
   "cell_type": "code",
   "execution_count": 24,
   "metadata": {},
   "outputs": [
    {
     "name": "stdout",
     "output_type": "stream",
     "text": [
      "Accuracy of Decision Tree classifier on training set: 0.8292\n",
      "Accuracy of Decision Tree classifier on test set: 0.7696\n"
     ]
    },
    {
     "data": {
      "image/png": "[encoded data removed]",
      "text/plain": [
       "<Figure size 432x288 with 2 Axes>"
      ]
     },
     "metadata": {
      "needs_background": "light"
     },
     "output_type": "display_data"
    }
   ],
   "source": [
    "from sklearn import metrics  \n",
    "predicted=model.predict(X_test) \n",
    "print('Accuracy of Decision Tree classifier on training set: {:.4f}'\n",
    "     .format(model.score(X_train_res, y_train_res)))\n",
    "print('Accuracy of Decision Tree classifier on test set: {:.4f}'\n",
    "     .format(model.score(X_test, y_test)))\n",
    "confusion_matrix = metrics.confusion_matrix(y_test, predicted)\n",
    "cm_display = metrics.ConfusionMatrixDisplay(confusion_matrix = confusion_matrix, display_labels = ['FF','SL','CH','CU','FC'])\n",
    "cm_display.plot()\n",
    "plt.show()"
   ]
  },
  {
   "attachments": {},
   "cell_type": "markdown",
   "metadata": {},
   "source": [
    "## KNN NEIGHBORS"
   ]
  },
  {
   "cell_type": "code",
   "execution_count": 216,
   "metadata": {},
   "outputs": [
    {
     "name": "stderr",
     "output_type": "stream",
     "text": [
      "C:\\Users\\david\\AppData\\Local\\Packages\\PythonSoftwareFoundation.Python.3.10_qbz5n2kfra8p0\\LocalCache\\local-packages\\Python310\\site-packages\\sklearn\\neighbors\\_classification.py:198: DataConversionWarning: A column-vector y was passed when a 1d array was expected. Please change the shape of y to (n_samples,), for example using ravel().\n",
      "  return self._fit(X, y)\n",
      "C:\\Users\\david\\AppData\\Local\\Packages\\PythonSoftwareFoundation.Python.3.10_qbz5n2kfra8p0\\LocalCache\\local-packages\\Python310\\site-packages\\sklearn\\neighbors\\_classification.py:198: DataConversionWarning: A column-vector y was passed when a 1d array was expected. Please change the shape of y to (n_samples,), for example using ravel().\n",
      "  return self._fit(X, y)\n",
      "C:\\Users\\david\\AppData\\Local\\Packages\\PythonSoftwareFoundation.Python.3.10_qbz5n2kfra8p0\\LocalCache\\local-packages\\Python310\\site-packages\\sklearn\\neighbors\\_classification.py:198: DataConversionWarning: A column-vector y was passed when a 1d array was expected. Please change the shape of y to (n_samples,), for example using ravel().\n",
      "  return self._fit(X, y)\n",
      "C:\\Users\\david\\AppData\\Local\\Packages\\PythonSoftwareFoundation.Python.3.10_qbz5n2kfra8p0\\LocalCache\\local-packages\\Python310\\site-packages\\sklearn\\neighbors\\_classification.py:198: DataConversionWarning: A column-vector y was passed when a 1d array was expected. Please change the shape of y to (n_samples,), for example using ravel().\n",
      "  return self._fit(X, y)\n",
      "C:\\Users\\david\\AppData\\Local\\Packages\\PythonSoftwareFoundation.Python.3.10_qbz5n2kfra8p0\\LocalCache\\local-packages\\Python310\\site-packages\\sklearn\\neighbors\\_classification.py:198: DataConversionWarning: A column-vector y was passed when a 1d array was expected. Please change the shape of y to (n_samples,), for example using ravel().\n",
      "  return self._fit(X, y)\n",
      "C:\\Users\\david\\AppData\\Local\\Packages\\PythonSoftwareFoundation.Python.3.10_qbz5n2kfra8p0\\LocalCache\\local-packages\\Python310\\site-packages\\sklearn\\neighbors\\_classification.py:198: DataConversionWarning: A column-vector y was passed when a 1d array was expected. Please change the shape of y to (n_samples,), for example using ravel().\n",
      "  return self._fit(X, y)\n",
      "C:\\Users\\david\\AppData\\Local\\Packages\\PythonSoftwareFoundation.Python.3.10_qbz5n2kfra8p0\\LocalCache\\local-packages\\Python310\\site-packages\\sklearn\\neighbors\\_classification.py:198: DataConversionWarning: A column-vector y was passed when a 1d array was expected. Please change the shape of y to (n_samples,), for example using ravel().\n",
      "  return self._fit(X, y)\n",
      "C:\\Users\\david\\AppData\\Local\\Packages\\PythonSoftwareFoundation.Python.3.10_qbz5n2kfra8p0\\LocalCache\\local-packages\\Python310\\site-packages\\sklearn\\neighbors\\_classification.py:198: DataConversionWarning: A column-vector y was passed when a 1d array was expected. Please change the shape of y to (n_samples,), for example using ravel().\n",
      "  return self._fit(X, y)\n",
      "C:\\Users\\david\\AppData\\Local\\Packages\\PythonSoftwareFoundation.Python.3.10_qbz5n2kfra8p0\\LocalCache\\local-packages\\Python310\\site-packages\\sklearn\\neighbors\\_classification.py:198: DataConversionWarning: A column-vector y was passed when a 1d array was expected. Please change the shape of y to (n_samples,), for example using ravel().\n",
      "  return self._fit(X, y)\n",
      "C:\\Users\\david\\AppData\\Local\\Packages\\PythonSoftwareFoundation.Python.3.10_qbz5n2kfra8p0\\LocalCache\\local-packages\\Python310\\site-packages\\sklearn\\neighbors\\_classification.py:198: DataConversionWarning: A column-vector y was passed when a 1d array was expected. Please change the shape of y to (n_samples,), for example using ravel().\n",
      "  return self._fit(X, y)\n",
      "C:\\Users\\david\\AppData\\Local\\Packages\\PythonSoftwareFoundation.Python.3.10_qbz5n2kfra8p0\\LocalCache\\local-packages\\Python310\\site-packages\\sklearn\\neighbors\\_classification.py:198: DataConversionWarning: A column-vector y was passed when a 1d array was expected. Please change the shape of y to (n_samples,), for example using ravel().\n",
      "  return self._fit(X, y)\n",
      "C:\\Users\\david\\AppData\\Local\\Packages\\PythonSoftwareFoundation.Python.3.10_qbz5n2kfra8p0\\LocalCache\\local-packages\\Python310\\site-packages\\sklearn\\neighbors\\_classification.py:198: DataConversionWarning: A column-vector y was passed when a 1d array was expected. Please change the shape of y to (n_samples,), for example using ravel().\n",
      "  return self._fit(X, y)\n",
      "C:\\Users\\david\\AppData\\Local\\Packages\\PythonSoftwareFoundation.Python.3.10_qbz5n2kfra8p0\\LocalCache\\local-packages\\Python310\\site-packages\\sklearn\\neighbors\\_classification.py:198: DataConversionWarning: A column-vector y was passed when a 1d array was expected. Please change the shape of y to (n_samples,), for example using ravel().\n",
      "  return self._fit(X, y)\n",
      "C:\\Users\\david\\AppData\\Local\\Packages\\PythonSoftwareFoundation.Python.3.10_qbz5n2kfra8p0\\LocalCache\\local-packages\\Python310\\site-packages\\sklearn\\neighbors\\_classification.py:198: DataConversionWarning: A column-vector y was passed when a 1d array was expected. Please change the shape of y to (n_samples,), for example using ravel().\n",
      "  return self._fit(X, y)\n",
      "C:\\Users\\david\\AppData\\Local\\Packages\\PythonSoftwareFoundation.Python.3.10_qbz5n2kfra8p0\\LocalCache\\local-packages\\Python310\\site-packages\\sklearn\\neighbors\\_classification.py:198: DataConversionWarning: A column-vector y was passed when a 1d array was expected. Please change the shape of y to (n_samples,), for example using ravel().\n",
      "  return self._fit(X, y)\n",
      "C:\\Users\\david\\AppData\\Local\\Packages\\PythonSoftwareFoundation.Python.3.10_qbz5n2kfra8p0\\LocalCache\\local-packages\\Python310\\site-packages\\sklearn\\neighbors\\_classification.py:198: DataConversionWarning: A column-vector y was passed when a 1d array was expected. Please change the shape of y to (n_samples,), for example using ravel().\n",
      "  return self._fit(X, y)\n",
      "C:\\Users\\david\\AppData\\Local\\Packages\\PythonSoftwareFoundation.Python.3.10_qbz5n2kfra8p0\\LocalCache\\local-packages\\Python310\\site-packages\\sklearn\\neighbors\\_classification.py:198: DataConversionWarning: A column-vector y was passed when a 1d array was expected. Please change the shape of y to (n_samples,), for example using ravel().\n",
      "  return self._fit(X, y)\n",
      "C:\\Users\\david\\AppData\\Local\\Packages\\PythonSoftwareFoundation.Python.3.10_qbz5n2kfra8p0\\LocalCache\\local-packages\\Python310\\site-packages\\sklearn\\neighbors\\_classification.py:198: DataConversionWarning: A column-vector y was passed when a 1d array was expected. Please change the shape of y to (n_samples,), for example using ravel().\n",
      "  return self._fit(X, y)\n",
      "C:\\Users\\david\\AppData\\Local\\Packages\\PythonSoftwareFoundation.Python.3.10_qbz5n2kfra8p0\\LocalCache\\local-packages\\Python310\\site-packages\\sklearn\\neighbors\\_classification.py:198: DataConversionWarning: A column-vector y was passed when a 1d array was expected. Please change the shape of y to (n_samples,), for example using ravel().\n",
      "  return self._fit(X, y)\n",
      "C:\\Users\\david\\AppData\\Local\\Packages\\PythonSoftwareFoundation.Python.3.10_qbz5n2kfra8p0\\LocalCache\\local-packages\\Python310\\site-packages\\sklearn\\neighbors\\_classification.py:198: DataConversionWarning: A column-vector y was passed when a 1d array was expected. Please change the shape of y to (n_samples,), for example using ravel().\n",
      "  return self._fit(X, y)\n",
      "C:\\Users\\david\\AppData\\Local\\Packages\\PythonSoftwareFoundation.Python.3.10_qbz5n2kfra8p0\\LocalCache\\local-packages\\Python310\\site-packages\\sklearn\\neighbors\\_classification.py:198: DataConversionWarning: A column-vector y was passed when a 1d array was expected. Please change the shape of y to (n_samples,), for example using ravel().\n",
      "  return self._fit(X, y)\n",
      "C:\\Users\\david\\AppData\\Local\\Packages\\PythonSoftwareFoundation.Python.3.10_qbz5n2kfra8p0\\LocalCache\\local-packages\\Python310\\site-packages\\sklearn\\neighbors\\_classification.py:198: DataConversionWarning: A column-vector y was passed when a 1d array was expected. Please change the shape of y to (n_samples,), for example using ravel().\n",
      "  return self._fit(X, y)\n",
      "C:\\Users\\david\\AppData\\Local\\Packages\\PythonSoftwareFoundation.Python.3.10_qbz5n2kfra8p0\\LocalCache\\local-packages\\Python310\\site-packages\\sklearn\\neighbors\\_classification.py:198: DataConversionWarning: A column-vector y was passed when a 1d array was expected. Please change the shape of y to (n_samples,), for example using ravel().\n",
      "  return self._fit(X, y)\n",
      "C:\\Users\\david\\AppData\\Local\\Packages\\PythonSoftwareFoundation.Python.3.10_qbz5n2kfra8p0\\LocalCache\\local-packages\\Python310\\site-packages\\sklearn\\neighbors\\_classification.py:198: DataConversionWarning: A column-vector y was passed when a 1d array was expected. Please change the shape of y to (n_samples,), for example using ravel().\n",
      "  return self._fit(X, y)\n",
      "C:\\Users\\david\\AppData\\Local\\Packages\\PythonSoftwareFoundation.Python.3.10_qbz5n2kfra8p0\\LocalCache\\local-packages\\Python310\\site-packages\\sklearn\\neighbors\\_classification.py:198: DataConversionWarning: A column-vector y was passed when a 1d array was expected. Please change the shape of y to (n_samples,), for example using ravel().\n",
      "  return self._fit(X, y)\n",
      "C:\\Users\\david\\AppData\\Local\\Packages\\PythonSoftwareFoundation.Python.3.10_qbz5n2kfra8p0\\LocalCache\\local-packages\\Python310\\site-packages\\sklearn\\neighbors\\_classification.py:198: DataConversionWarning: A column-vector y was passed when a 1d array was expected. Please change the shape of y to (n_samples,), for example using ravel().\n",
      "  return self._fit(X, y)\n",
      "C:\\Users\\david\\AppData\\Local\\Packages\\PythonSoftwareFoundation.Python.3.10_qbz5n2kfra8p0\\LocalCache\\local-packages\\Python310\\site-packages\\sklearn\\neighbors\\_classification.py:198: DataConversionWarning: A column-vector y was passed when a 1d array was expected. Please change the shape of y to (n_samples,), for example using ravel().\n",
      "  return self._fit(X, y)\n",
      "C:\\Users\\david\\AppData\\Local\\Packages\\PythonSoftwareFoundation.Python.3.10_qbz5n2kfra8p0\\LocalCache\\local-packages\\Python310\\site-packages\\sklearn\\neighbors\\_classification.py:198: DataConversionWarning: A column-vector y was passed when a 1d array was expected. Please change the shape of y to (n_samples,), for example using ravel().\n",
      "  return self._fit(X, y)\n",
      "C:\\Users\\david\\AppData\\Local\\Packages\\PythonSoftwareFoundation.Python.3.10_qbz5n2kfra8p0\\LocalCache\\local-packages\\Python310\\site-packages\\sklearn\\neighbors\\_classification.py:198: DataConversionWarning: A column-vector y was passed when a 1d array was expected. Please change the shape of y to (n_samples,), for example using ravel().\n",
      "  return self._fit(X, y)\n",
      "C:\\Users\\david\\AppData\\Local\\Packages\\PythonSoftwareFoundation.Python.3.10_qbz5n2kfra8p0\\LocalCache\\local-packages\\Python310\\site-packages\\sklearn\\neighbors\\_classification.py:198: DataConversionWarning: A column-vector y was passed when a 1d array was expected. Please change the shape of y to (n_samples,), for example using ravel().\n",
      "  return self._fit(X, y)\n"
     ]
    },
    {
     "data": {
      "text/plain": [
       "29"
      ]
     },
     "execution_count": 216,
     "metadata": {},
     "output_type": "execute_result"
    },
    {
     "data": {
      "image/png": "[encoded data removed]",
      "text/plain": [
       "<Figure size 432x288 with 1 Axes>"
      ]
     },
     "metadata": {
      "needs_background": "light"
     },
     "output_type": "display_data"
    }
   ],
   "source": [
    "from sklearn.neighbors import KNeighborsClassifier\n",
    "from sklearn.metrics import classification_report\n",
    "from sklearn.metrics import confusion_matrix\n",
    "# SDelection of optimum K\n",
    "k_range = range(5, 35)\n",
    "scores = []\n",
    "for k in k_range:\n",
    "    knn = KNeighborsClassifier(n_neighbors = k)\n",
    "    knn.fit(X_train_res, y_train_res)\n",
    "    scores.append(knn.score(X_test, y_test))\n",
    "plt.figure()\n",
    "plt.xlabel('k')\n",
    "plt.ylabel('accuracy')\n",
    "plt.scatter(k_range, scores)\n",
    "plt.xticks([0,5,10,15,20, 25, 30, 35, 40])\n",
    "\n",
    "scores.index(max(scores))"
   ]
  },
  {
   "cell_type": "code",
   "execution_count": 25,
   "metadata": {},
   "outputs": [
    {
     "name": "stderr",
     "output_type": "stream",
     "text": [
      "C:\\Users\\david\\AppData\\Local\\Packages\\PythonSoftwareFoundation.Python.3.10_qbz5n2kfra8p0\\LocalCache\\local-packages\\Python310\\site-packages\\sklearn\\neighbors\\_classification.py:198: DataConversionWarning: A column-vector y was passed when a 1d array was expected. Please change the shape of y to (n_samples,), for example using ravel().\n",
      "  return self._fit(X, y)\n"
     ]
    },
    {
     "name": "stdout",
     "output_type": "stream",
     "text": [
      "Accuracy of K-NN classifier on training set: 0.8364\n",
      "Accuracy of K-NN classifier on test set: 0.8119\n"
     ]
    },
    {
     "data": {
      "image/png": "[encoded data removed]",
      "text/plain": [
       "<Figure size 432x288 with 2 Axes>"
      ]
     },
     "metadata": {
      "needs_background": "light"
     },
     "output_type": "display_data"
    }
   ],
   "source": [
    "from sklearn.neighbors import KNeighborsClassifier\n",
    "from sklearn.metrics import classification_report\n",
    "from sklearn.metrics import confusion_matrix\n",
    "\n",
    "#Training\n",
    "n_neighbors = 34 # Especificar numero vecinos\n",
    "knn = KNeighborsClassifier(n_neighbors)\n",
    "knn.fit(X_train_res, y_train_res)\n",
    "print('Accuracy of K-NN classifier on training set: {:.4f}'\n",
    "     .format(knn.score(X_train_res, y_train_res)))\n",
    "print('Accuracy of K-NN classifier on test set: {:.4f}'\n",
    "     .format(knn.score(X_test, y_test)))\n",
    "\n",
    "#Testing\n",
    "\n",
    "pred = knn.predict(X_test)\n",
    "confusion_matrix = metrics.confusion_matrix(y_test, pred)\n",
    "cm_display = metrics.ConfusionMatrixDisplay(confusion_matrix = confusion_matrix, display_labels = ['FF','SL','CH','CU','FC'])\n",
    "cm_display.plot()\n",
    "plt.show()"
   ]
  },
  {
   "attachments": {},
   "cell_type": "markdown",
   "metadata": {},
   "source": [
    "## RANDOM FOREST"
   ]
  },
  {
   "cell_type": "code",
   "execution_count": 175,
   "metadata": {},
   "outputs": [
    {
     "name": "stderr",
     "output_type": "stream",
     "text": [
      "C:\\Users\\david\\AppData\\Local\\Packages\\PythonSoftwareFoundation.Python.3.10_qbz5n2kfra8p0\\LocalCache\\local-packages\\Python310\\site-packages\\sklearn\\model_selection\\_search.py:926: DataConversionWarning: A column-vector y was passed when a 1d array was expected. Please change the shape of y to (n_samples,), for example using ravel().\n",
      "  self.best_estimator_.fit(X, y, **fit_params)\n"
     ]
    },
    {
     "name": "stdout",
     "output_type": "stream",
     "text": [
      "{'criterion': 'entropy', 'max_depth': None, 'max_features': None, 'n_estimators': 150} : 0.8567706755528626 accuracy\n"
     ]
    }
   ],
   "source": [
    "from sklearn.model_selection import RepeatedKFold\n",
    "from sklearn.ensemble import RandomForestClassifier\n",
    "param_grid = {'n_estimators': [50, 100, 150],\n",
    "              'max_features': [\"sqrt\",\"log2\",None],\n",
    "              'max_depth'   : [None, 3, 10, 20],\n",
    "              'criterion'   : ['gini', 'entropy']\n",
    "             }\n",
    "\n",
    "# grid search by CV\n",
    "# ==============================================================================\n",
    "grid = GridSearchCV(\n",
    "        estimator  = RandomForestClassifier(random_state = 123),\n",
    "        param_grid = param_grid,\n",
    "        scoring    = 'accuracy',\n",
    "        n_jobs     = - 1,\n",
    "        cv         = RepeatedKFold(n_splits=5, n_repeats=3, random_state=123), \n",
    "        refit      = True,\n",
    "        verbose    = 0,\n",
    "        return_train_score = True\n",
    "       )\n",
    "\n",
    "grid.fit(X = X_train_res, y = y_train_res)\n",
    "\n",
    "# Resultados\n",
    "# ==============================================================================\n",
    "results_cv = pd.DataFrame(grid.cv_results_)\n",
    "results_cv.filter(regex = '(param*|mean_t|std_t)') \\\n",
    "    .drop(columns = 'params') \\\n",
    "    .sort_values('mean_test_score', ascending = False) \\\n",
    "    .head(4)\n",
    "print(grid.best_params_, \":\", grid.best_score_, grid.scoring)\n",
    "model_final = grid.best_estimator_\n"
   ]
  },
  {
   "cell_type": "code",
   "execution_count": null,
   "metadata": {},
   "outputs": [],
   "source": [
    "from sklearn import metrics  \n",
    "from sklearn.ensemble import RandomForestClassifier\n",
    "model_final = RandomForestClassifier(criterion='entropy',max_depth=None,max_features=None, n_estimators=150) \n",
    "model_final.fit(X = X_train_res, y = y_train_res)\n"
   ]
  },
  {
   "cell_type": "code",
   "execution_count": 22,
   "metadata": {},
   "outputs": [
    {
     "name": "stdout",
     "output_type": "stream",
     "text": [
      "Importance  of the model predictors\n",
      "-------------------------------------------\n"
     ]
    },
    {
     "data": {
      "text/html": [
       "<div>\n",
       "<style scoped>\n",
       "    .dataframe tbody tr th:only-of-type {\n",
       "        vertical-align: middle;\n",
       "    }\n",
       "\n",
       "    .dataframe tbody tr th {\n",
       "        vertical-align: top;\n",
       "    }\n",
       "\n",
       "    .dataframe thead th {\n",
       "        text-align: right;\n",
       "    }\n",
       "</style>\n",
       "<table border=\"1\" class=\"dataframe\">\n",
       "  <thead>\n",
       "    <tr style=\"text-align: right;\">\n",
       "      <th></th>\n",
       "      <th>predictor</th>\n",
       "      <th>importance</th>\n",
       "    </tr>\n",
       "  </thead>\n",
       "  <tbody>\n",
       "    <tr>\n",
       "      <th>5</th>\n",
       "      <td>break_length</td>\n",
       "      <td>0.453496</td>\n",
       "    </tr>\n",
       "    <tr>\n",
       "      <th>2</th>\n",
       "      <td>spin_rate</td>\n",
       "      <td>0.095497</td>\n",
       "    </tr>\n",
       "    <tr>\n",
       "      <th>14</th>\n",
       "      <td>x0</td>\n",
       "      <td>0.070542</td>\n",
       "    </tr>\n",
       "    <tr>\n",
       "      <th>18</th>\n",
       "      <td>pfx_x</td>\n",
       "      <td>0.068660</td>\n",
       "    </tr>\n",
       "    <tr>\n",
       "      <th>11</th>\n",
       "      <td>vy0</td>\n",
       "      <td>0.037969</td>\n",
       "    </tr>\n",
       "    <tr>\n",
       "      <th>17</th>\n",
       "      <td>z0</td>\n",
       "      <td>0.034792</td>\n",
       "    </tr>\n",
       "    <tr>\n",
       "      <th>7</th>\n",
       "      <td>ax</td>\n",
       "      <td>0.031962</td>\n",
       "    </tr>\n",
       "    <tr>\n",
       "      <th>4</th>\n",
       "      <td>break_angle</td>\n",
       "      <td>0.025834</td>\n",
       "    </tr>\n",
       "    <tr>\n",
       "      <th>10</th>\n",
       "      <td>vx0</td>\n",
       "      <td>0.023877</td>\n",
       "    </tr>\n",
       "    <tr>\n",
       "      <th>20</th>\n",
       "      <td>nasty</td>\n",
       "      <td>0.020073</td>\n",
       "    </tr>\n",
       "    <tr>\n",
       "      <th>1</th>\n",
       "      <td>end_speed</td>\n",
       "      <td>0.018878</td>\n",
       "    </tr>\n",
       "    <tr>\n",
       "      <th>8</th>\n",
       "      <td>ay</td>\n",
       "      <td>0.017951</td>\n",
       "    </tr>\n",
       "    <tr>\n",
       "      <th>15</th>\n",
       "      <td>y</td>\n",
       "      <td>0.015960</td>\n",
       "    </tr>\n",
       "    <tr>\n",
       "      <th>13</th>\n",
       "      <td>x</td>\n",
       "      <td>0.015913</td>\n",
       "    </tr>\n",
       "    <tr>\n",
       "      <th>3</th>\n",
       "      <td>spin_dir</td>\n",
       "      <td>0.015796</td>\n",
       "    </tr>\n",
       "    <tr>\n",
       "      <th>12</th>\n",
       "      <td>vz0</td>\n",
       "      <td>0.015414</td>\n",
       "    </tr>\n",
       "    <tr>\n",
       "      <th>0</th>\n",
       "      <td>start_speed</td>\n",
       "      <td>0.010769</td>\n",
       "    </tr>\n",
       "    <tr>\n",
       "      <th>19</th>\n",
       "      <td>pfx_z</td>\n",
       "      <td>0.009720</td>\n",
       "    </tr>\n",
       "    <tr>\n",
       "      <th>9</th>\n",
       "      <td>az</td>\n",
       "      <td>0.009535</td>\n",
       "    </tr>\n",
       "    <tr>\n",
       "      <th>21</th>\n",
       "      <td>zone</td>\n",
       "      <td>0.005284</td>\n",
       "    </tr>\n",
       "    <tr>\n",
       "      <th>6</th>\n",
       "      <td>break_y</td>\n",
       "      <td>0.002077</td>\n",
       "    </tr>\n",
       "    <tr>\n",
       "      <th>16</th>\n",
       "      <td>y0</td>\n",
       "      <td>0.000000</td>\n",
       "    </tr>\n",
       "  </tbody>\n",
       "</table>\n",
       "</div>"
      ],
      "text/plain": [
       "       predictor  importance\n",
       "5   break_length    0.453496\n",
       "2      spin_rate    0.095497\n",
       "14            x0    0.070542\n",
       "18         pfx_x    0.068660\n",
       "11           vy0    0.037969\n",
       "17            z0    0.034792\n",
       "7             ax    0.031962\n",
       "4    break_angle    0.025834\n",
       "10           vx0    0.023877\n",
       "20         nasty    0.020073\n",
       "1      end_speed    0.018878\n",
       "8             ay    0.017951\n",
       "15             y    0.015960\n",
       "13             x    0.015913\n",
       "3       spin_dir    0.015796\n",
       "12           vz0    0.015414\n",
       "0    start_speed    0.010769\n",
       "19         pfx_z    0.009720\n",
       "9             az    0.009535\n",
       "21          zone    0.005284\n",
       "6        break_y    0.002077\n",
       "16            y0    0.000000"
      ]
     },
     "execution_count": 22,
     "metadata": {},
     "output_type": "execute_result"
    }
   ],
   "source": [
    "importance_predictors = pd.DataFrame(\n",
    "                            {'predictor': X_train_res.columns,\n",
    "                             'importance': model_final.feature_importances_}\n",
    "                            )\n",
    "print(\"Importance  of the model predictors\")\n",
    "print(\"-------------------------------------------\")\n",
    "importance_predictors.sort_values('importance', ascending=False)"
   ]
  },
  {
   "cell_type": "code",
   "execution_count": 27,
   "metadata": {},
   "outputs": [
    {
     "name": "stdout",
     "output_type": "stream",
     "text": [
      "Accuracy of RF classifier on training set: 1.0000\n",
      "Accuracy of RF classifier on test set: 0.8042\n"
     ]
    },
    {
     "data": {
      "image/png": "[encoded data removed]",
      "text/plain": [
       "<Figure size 432x288 with 2 Axes>"
      ]
     },
     "metadata": {
      "needs_background": "light"
     },
     "output_type": "display_data"
    }
   ],
   "source": [
    "predicted=model_final.predict(X_test) \n",
    "print('Accuracy of RF classifier on training set: {:.4f}'\n",
    "     .format(model_final.score(X_train_res, y_train_res)))\n",
    "print('Accuracy of RF classifier on test set: {:.4f}'\n",
    "     .format(model_final.score(X_test, y_test)))\n",
    "confusion_matrix = metrics.confusion_matrix(y_test, predicted)\n",
    "cm_display = metrics.ConfusionMatrixDisplay(confusion_matrix = confusion_matrix, display_labels = ['FF','SL','CH','CU','FC'])\n",
    "cm_display.plot()\n",
    "plt.show()"
   ]
  },
  {
   "attachments": {},
   "cell_type": "markdown",
   "metadata": {},
   "source": [
    "## MULTILAYER PERCEPTRON"
   ]
  },
  {
   "cell_type": "code",
   "execution_count": null,
   "metadata": {},
   "outputs": [],
   "source": [
    "from sklearn.neural_network import MLPClassifier\n",
    "\n",
    "from sklearn.metrics import accuracy_score\n",
    "from sklearn.metrics import plot_confusion_matrix\n",
    "from sklearn.metrics import classification_report\n",
    "\n",
    "from sklearn.model_selection import GridSearchCV\n",
    "mlp_clf = MLPClassifier(max_iter=300)\n",
    "\n",
    "param_grid = {\n",
    "    'hidden_layer_sizes': [(10,30,10), (40,40), (15,25,15),(20,20)],\n",
    "    'activation': ['relu','tanh','logistic'],\n",
    "    'solver': ['adam'],\n",
    "    'learning_rate_init': [0.001,0.05,0.01],\n",
    "}\n",
    "grid = GridSearchCV(mlp_clf, param_grid, n_jobs= -1, cv=5)\n",
    "grid.fit(X_train_res, y_train_res)\n",
    "print(grid.best_params_)\n"
   ]
  },
  {
   "cell_type": "code",
   "execution_count": 38,
   "metadata": {},
   "outputs": [
    {
     "name": "stdout",
     "output_type": "stream",
     "text": [
      "Accuracy in TRAINING: 0.8517\n",
      "Accuracy in TEST: 0.8250\n"
     ]
    },
    {
     "data": {
      "image/png": "[encoded data removed]",
      "text/plain": [
       "<Figure size 432x288 with 2 Axes>"
      ]
     },
     "metadata": {
      "needs_background": "light"
     },
     "output_type": "display_data"
    }
   ],
   "source": [
    "mlp_clf_final = MLPClassifier(max_iter=300,activation='tanh',hidden_layer_sizes=(40, 40),learning_rate_init=0.001,solver='adam')\n",
    "mlp_clf_final.fit(X_train_res, y_train_res)\n",
    "prediction_train= mlp_clf_final.predict(X_train_res)\n",
    "print('Accuracy in TRAINING: {:.4f}'.format(accuracy_score(y_train_res, prediction_train)))\n",
    "# Evaluation TRST \n",
    "prediction_test= mlp_clf_final.predict(X_test)\n",
    "print('Accuracy in TEST: {:.4f}'.format(accuracy_score(y_test, prediction_test)))\n",
    "confusion_matrix = metrics.confusion_matrix(y_test, prediction_test)\n",
    "cm_display = metrics.ConfusionMatrixDisplay(confusion_matrix = confusion_matrix, display_labels = ['FF','SL','CH','CU','FC'])\n",
    "cm_display.plot()\n",
    "plt.show()"
   ]
  }
 ],
 "metadata": {
  "kernelspec": {
   "display_name": "Python 3",
   "language": "python",
   "name": "python3"
  },
  "language_info": {
   "codemirror_mode": {
    "name": "ipython",
    "version": 3
   },
   "file_extension": ".py",
   "mimetype": "text/x-python",
   "name": "python",
   "nbconvert_exporter": "python",
   "pygments_lexer": "ipython3",
   "version": "3.10.11"
  },
  "orig_nbformat": 4,
  "vscode": {
   "interpreter": {
    "hash": "2df53de82fe139b23b9a340061c8527273b7fa86551030a1983ff618b17018eb"
   }
  }
 },
 "nbformat": 4,
 "nbformat_minor": 2
}
